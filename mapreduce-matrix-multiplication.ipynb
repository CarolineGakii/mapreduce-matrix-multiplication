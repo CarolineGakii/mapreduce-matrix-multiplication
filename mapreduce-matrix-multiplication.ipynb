{
 "cells": [
  {
   "cell_type": "code",
   "execution_count": 4,
   "id": "92594ef3-40db-4cfd-93c5-7af5fc22a8d7",
   "metadata": {},
   "outputs": [
    {
     "name": "stdout",
     "output_type": "stream",
     "text": [
      "Matrix A:\n",
      "[[6 3]\n",
      " [7 4]\n",
      " [6 9]]\n",
      "\n",
      "Matrix B:\n",
      "[[2 6 7]\n",
      " [4 3 7]]\n"
     ]
    }
   ],
   "source": [
    "import numpy as np\n",
    "import pandas as pd\n",
    "\n",
    "# Set seed for reproducibility\n",
    "np.random.seed(42)\n",
    "\n",
    "# Define matrix sizes\n",
    "m, n, p = 3, 2, 3  # A is m x n, B is n x p\n",
    "\n",
    "# Generate random integer matrices\n",
    "A = np.random.randint(0, 10, (m, n))\n",
    "B = np.random.randint(0, 10, (n, p))\n",
    "\n",
    "# Save as CSV\n",
    "pd.DataFrame(A).to_csv('A.csv', index=False, header=False)\n",
    "pd.DataFrame(B).to_csv('B.csv', index=False, header=False)\n",
    "\n",
    "# Show the matrices\n",
    "print(\"Matrix A:\")\n",
    "print(A)\n",
    "print(\"\\nMatrix B:\")\n",
    "print(B)\n"
   ]
  },
  {
   "cell_type": "code",
   "execution_count": 5,
   "id": "4f4b5f67-086b-4247-9464-846b753629c1",
   "metadata": {},
   "outputs": [],
   "source": [
    "def single_step_mapper(A, B):\n",
    "    m, n = A.shape\n",
    "    n, p = B.shape\n",
    "    \n",
    "    mapped = []\n",
    "    \n",
    "    # Emit all elements of A\n",
    "    for i in range(m):\n",
    "        for k in range(n):\n",
    "            for j in range(p):\n",
    "                mapped.append(((i, j), ('A', k, A[i][k])))\n",
    "\n",
    "    # Emit all elements of B\n",
    "    for k in range(n):\n",
    "        for j in range(p):\n",
    "            for i in range(m):\n",
    "                mapped.append(((i, j), ('B', k, B[k][j])))\n",
    "\n",
    "    return mapped\n"
   ]
  },
  {
   "cell_type": "code",
   "execution_count": 6,
   "id": "95294a61-a3fc-4d72-9ef4-e5c83601e65e",
   "metadata": {},
   "outputs": [],
   "source": [
    "from collections import defaultdict\n",
    "\n",
    "def single_step_reducer(mapped_data):\n",
    "    grouped = defaultdict(list)\n",
    "    \n",
    "    # Group by key\n",
    "    for key, value in mapped_data:\n",
    "        grouped[key].append(value)\n",
    "\n",
    "    # Reduce: Multiply and sum products\n",
    "    result = {}\n",
    "    for key, values in grouped.items():\n",
    "        A_vals = {k: v for tag, k, v in values if tag == 'A'}\n",
    "        B_vals = {k: v for tag, k, v in values if tag == 'B'}\n",
    "        \n",
    "        total = 0\n",
    "        for k in A_vals:\n",
    "            if k in B_vals:\n",
    "                total += A_vals[k] * B_vals[k]\n",
    "        result[key] = total\n",
    "\n",
    "    return result\n"
   ]
  },
  {
   "cell_type": "code",
   "execution_count": 7,
   "id": "3d6b3732-05d9-499f-83a4-86a5a819ae78",
   "metadata": {},
   "outputs": [
    {
     "name": "stdout",
     "output_type": "stream",
     "text": [
      "Resultant Matrix C (A x B):\n",
      "[[ 24  45  63]\n",
      " [ 30  54  77]\n",
      " [ 48  63 105]]\n"
     ]
    }
   ],
   "source": [
    "# Read the matrices back\n",
    "A = pd.read_csv('A.csv', header=None).values\n",
    "B = pd.read_csv('B.csv', header=None).values\n",
    "\n",
    "# Step 1: Map\n",
    "mapped = single_step_mapper(A, B)\n",
    "\n",
    "# Step 2: Reduce\n",
    "reduced = single_step_reducer(mapped)\n",
    "\n",
    "# Format result matrix\n",
    "m, p = A.shape[0], B.shape[1]\n",
    "C = np.zeros((m, p), dtype=int)\n",
    "\n",
    "for (i, j), val in reduced.items():\n",
    "    C[i][j] = val\n",
    "\n",
    "print(\"Resultant Matrix C (A x B):\")\n",
    "print(C)\n"
   ]
  },
  {
   "cell_type": "code",
   "execution_count": 10,
   "id": "fb32625e-ab17-4196-a04b-db09de8d19a4",
   "metadata": {},
   "outputs": [],
   "source": [
    "import pandas as pd\n",
    "\n",
    "A = pd.read_csv(\"A.csv\", header=None).values\n",
    "B = pd.read_csv(\"B.csv\", header=None).values\n"
   ]
  },
  {
   "cell_type": "code",
   "execution_count": 11,
   "id": "a90b4c26-d88b-46b7-9da6-2da897d4b8bf",
   "metadata": {},
   "outputs": [
    {
     "name": "stdout",
     "output_type": "stream",
     "text": [
      "Matrix C from Multi-Step MapReduce:\n",
      "[[ 24  45  63]\n",
      " [ 30  54  77]\n",
      " [ 48  63 105]]\n"
     ]
    }
   ],
   "source": [
    "multi_mapped = multistep_mapper(A, B)\n",
    "multi_reduced = multistep_reducer(multi_mapped)\n",
    "\n",
    "m, p = A.shape[0], B.shape[1]\n",
    "C_multi = np.zeros((m, p), dtype=int)\n",
    "\n",
    "for (i, j), val in multi_reduced.items():\n",
    "    C_multi[i][j] = val\n",
    "\n",
    "print(\"Matrix C from Multi-Step MapReduce:\")\n",
    "print(C_multi)\n"
   ]
  },
  {
   "cell_type": "code",
   "execution_count": 12,
   "id": "a0f9bae7-cda3-418b-8757-e4c4da266b41",
   "metadata": {},
   "outputs": [],
   "source": [
    "A = np.random.randint(1, 100, size=(100, 100))\n",
    "B = np.random.randint(1, 100, size=(100, 100))\n"
   ]
  },
  {
   "cell_type": "code",
   "execution_count": 13,
   "id": "21f61fa2-9ca7-46bc-8ceb-651f4a1a1e1e",
   "metadata": {},
   "outputs": [
    {
     "name": "stdout",
     "output_type": "stream",
     "text": [
      "Time taken: 7.343292236328125e-05\n"
     ]
    }
   ],
   "source": [
    "import time\n",
    "\n",
    "start = time.time()\n",
    "# ... run MapReduce method ...\n",
    "end = time.time()\n",
    "print(\"Time taken:\", end - start)\n"
   ]
  },
  {
   "cell_type": "code",
   "execution_count": 15,
   "id": "16b4680b-06ae-4c93-a02c-c4333edd5382",
   "metadata": {},
   "outputs": [],
   "source": [
    "# Single-Step MapReduce functions\n",
    "def mapper(A, B):\n",
    "    mapped = []\n",
    "    m, n = A.shape\n",
    "    n2, p = B.shape\n",
    "    assert n == n2, \"Matrix dimensions do not align for multiplication\"\n",
    "\n",
    "    for i in range(m):\n",
    "        for k in range(n):\n",
    "            for j in range(p):\n",
    "                mapped.append(((i, j), A[i][k] * B[k][j]))\n",
    "    return mapped\n",
    "\n",
    "def reducer(mapped):\n",
    "    reduced = {}\n",
    "    for key, value in mapped:\n",
    "        if key not in reduced:\n",
    "            reduced[key] = 0\n",
    "        reduced[key] += value\n",
    "    return reduced\n"
   ]
  },
  {
   "cell_type": "code",
   "execution_count": 16,
   "id": "331a91b2-8a82-404e-aa76-ead713ac241c",
   "metadata": {},
   "outputs": [
    {
     "name": "stdout",
     "output_type": "stream",
     "text": [
      "Single-step time: 1.0080547332763672\n",
      "Multi-step time: 0.971498966217041\n"
     ]
    }
   ],
   "source": [
    "import time\n",
    "\n",
    "# Generate new matrices\n",
    "A = np.random.randint(1, 100, size=(100, 100))\n",
    "B = np.random.randint(1, 100, size=(100, 100))\n",
    "\n",
    "# Time single-step\n",
    "start = time.time()\n",
    "single_mapped = mapper(A, B)\n",
    "single_reduced = reducer(single_mapped)\n",
    "C_single = np.zeros((A.shape[0], B.shape[1]), dtype=int)\n",
    "for (i, j), val in single_reduced.items():\n",
    "    C_single[i][j] = val\n",
    "end = time.time()\n",
    "print(\"Single-step time:\", end - start)\n",
    "\n",
    "# Time multi-step\n",
    "start = time.time()\n",
    "multi_mapped = multistep_mapper(A, B)\n",
    "multi_reduced = multistep_reducer(multi_mapped)\n",
    "C_multi = np.zeros((A.shape[0], B.shape[1]), dtype=int)\n",
    "for (i, j), val in multi_reduced.items():\n",
    "    C_multi[i][j] = val\n",
    "end = time.time()\n",
    "print(\"Multi-step time:\", end - start)\n"
   ]
  },
  {
   "cell_type": "code",
   "execution_count": 17,
   "id": "bfef140e-8bb6-4392-90cf-f53d795fe889",
   "metadata": {},
   "outputs": [
    {
     "name": "stdout",
     "output_type": "stream",
     "text": [
      "Single-step time: 0.07583284378051758\n",
      "Multi-step time: 0.07576394081115723\n"
     ]
    }
   ],
   "source": [
    "import time\n",
    "\n",
    "# Generate new matrices\n",
    "A = np.random.randint(1, 10, size=(10, 10))\n",
    "B = np.random.randint(1, 10, size=(10, 10))\n",
    "\n",
    "# Time single-step\n",
    "start = time.time()\n",
    "single_mapped = mapper(A, B)\n",
    "single_reduced = reducer(single_mapped)\n",
    "C_single = np.zeros((A.shape[0], B.shape[1]), dtype=int)\n",
    "for (i, j), val in single_reduced.items():\n",
    "    C_single[i][j] = val\n",
    "end = time.time()\n",
    "print(\"Single-step time:\", end - start)\n",
    "\n",
    "# Time multi-step\n",
    "start = time.time()\n",
    "multi_mapped = multistep_mapper(A, B)\n",
    "multi_reduced = multistep_reducer(multi_mapped)\n",
    "C_multi = np.zeros((A.shape[0], B.shape[1]), dtype=int)\n",
    "for (i, j), val in multi_reduced.items():\n",
    "    C_multi[i][j] = val\n",
    "end = time.time()\n",
    "print(\"Multi-step time:\", end - start)\n"
   ]
  },
  {
   "cell_type": "code",
   "execution_count": 19,
   "id": "01baad84-c0a5-47a8-920b-0a6c6f263937",
   "metadata": {},
   "outputs": [
    {
     "name": "stdout",
     "output_type": "stream",
     "text": [
      "Single-step time: 0.14161348342895508\n",
      "Multi-step time: 0.11689400672912598\n"
     ]
    }
   ],
   "source": [
    "import time\n",
    "\n",
    "# Generate new matrices\n",
    "A = np.random.randint(1, 50, size=(50, 50))\n",
    "B = np.random.randint(1, 50, size=(50, 50))\n",
    "\n",
    "# Time single-step\n",
    "start = time.time()\n",
    "single_mapped = mapper(A, B)\n",
    "single_reduced = reducer(single_mapped)\n",
    "C_single = np.zeros((A.shape[0], B.shape[1]), dtype=int)\n",
    "for (i, j), val in single_reduced.items():\n",
    "    C_single[i][j] = val\n",
    "end = time.time()\n",
    "print(\"Single-step time:\", end - start)\n",
    "\n",
    "# Time multi-step\n",
    "start = time.time()\n",
    "multi_mapped = multistep_mapper(A, B)\n",
    "multi_reduced = multistep_reducer(multi_mapped)\n",
    "C_multi = np.zeros((A.shape[0], B.shape[1]), dtype=int)\n",
    "for (i, j), val in multi_reduced.items():\n",
    "    C_multi[i][j] = val\n",
    "end = time.time()\n",
    "print(\"Multi-step time:\", end - start)\n"
   ]
  },
  {
   "cell_type": "code",
   "execution_count": 21,
   "id": "1e57b6a0-2198-463b-b417-76be409e25f1",
   "metadata": {},
   "outputs": [
    {
     "name": "stdout",
     "output_type": "stream",
     "text": [
      "Single-step time: 97.12206721305847\n",
      "Multi-step time: 11.947098970413208\n"
     ]
    }
   ],
   "source": [
    "import time\n",
    "\n",
    "# Generate new matrices\n",
    "A = np.random.randint(1, 200, size=(200, 200))\n",
    "B = np.random.randint(1, 200, size=(200, 200))\n",
    "\n",
    "# Time single-step\n",
    "start = time.time()\n",
    "single_mapped = mapper(A, B)\n",
    "single_reduced = reducer(single_mapped)\n",
    "C_single = np.zeros((A.shape[0], B.shape[1]), dtype=int)\n",
    "for (i, j), val in single_reduced.items():\n",
    "    C_single[i][j] = val\n",
    "end = time.time()\n",
    "print(\"Single-step time:\", end - start)\n",
    "\n",
    "# Time multi-step\n",
    "start = time.time()\n",
    "multi_mapped = multistep_mapper(A, B)\n",
    "multi_reduced = multistep_reducer(multi_mapped)\n",
    "C_multi = np.zeros((A.shape[0], B.shape[1]), dtype=int)\n",
    "for (i, j), val in multi_reduced.items():\n",
    "    C_multi[i][j] = val\n",
    "end = time.time()\n",
    "print(\"Multi-step time:\", end - start)\n"
   ]
  },
  {
   "cell_type": "code",
   "execution_count": null,
   "id": "e0bd1bb1-36d6-49a7-9229-158423a8580a",
   "metadata": {},
   "outputs": [],
   "source": []
  }
 ],
 "metadata": {
  "kernelspec": {
   "display_name": "Python [conda env:base] *",
   "language": "python",
   "name": "conda-base-py"
  },
  "language_info": {
   "codemirror_mode": {
    "name": "ipython",
    "version": 3
   },
   "file_extension": ".py",
   "mimetype": "text/x-python",
   "name": "python",
   "nbconvert_exporter": "python",
   "pygments_lexer": "ipython3",
   "version": "3.13.5"
  }
 },
 "nbformat": 4,
 "nbformat_minor": 5
}
